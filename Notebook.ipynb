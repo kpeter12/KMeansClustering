{
 "cells": [
  {
   "cell_type": "code",
   "execution_count": null,
   "metadata": {},
   "outputs": [],
   "source": [
    "import numpy as np\n",
    "import scipy.stats as sps\n",
    "import matplotlib.pyplot as plt\n",
    "%matplotlib inline"
   ]
  },
  {
   "cell_type": "code",
   "execution_count": null,
   "metadata": {},
   "outputs": [],
   "source": [
    "## Load text file with pasted data\n",
    "data = np.loadtxt(\"final-cancer-results.txt\")"
   ]
  },
  {
   "cell_type": "code",
   "execution_count": null,
   "metadata": {},
   "outputs": [],
   "source": [
    "## Nrows is the number of samples\n",
    "## Ncolumns is the number of clusters (1 to N)\n",
    "np.shape(data)"
   ]
  },
  {
   "cell_type": "code",
   "execution_count": null,
   "metadata": {},
   "outputs": [],
   "source": [
    "## Calculate the mean -percentage- correct\n",
    "## We used 10-fold random subsampling validation (10.0)\n",
    "## Apply the np.mean() function across the rows (axis 0, one mean per column)\n",
    "means = np.apply_along_axis(np.mean,0,data)*100.0/10.0"
   ]
  },
  {
   "cell_type": "code",
   "execution_count": null,
   "metadata": {},
   "outputs": [],
   "source": [
    "## Raw data\n",
    "means"
   ]
  },
  {
   "cell_type": "code",
   "execution_count": null,
   "metadata": {},
   "outputs": [],
   "source": [
    "## Standard error is the standard deviation (np.std) / sqrt(N-1)\n",
    "## Alternatively, we just use scipy.stats.sem() [sps.sem()]\n",
    "stderr = np.apply_along_axis(np.std,0,data)*100.0/(10.0*np.sqrt(np.shape(data)[0]-1))\n",
    "stderr = np.apply_along_axis(sps.sem,0,data)*100.0/10.0"
   ]
  },
  {
   "cell_type": "code",
   "execution_count": null,
   "metadata": {},
   "outputs": [],
   "source": [
    "## Raw data\n",
    "stderr"
   ]
  },
  {
   "cell_type": "code",
   "execution_count": null,
   "metadata": {},
   "outputs": [],
   "source": [
    "## Make the plot bigger to get a better resolution\n",
    "plt.figure(figsize=(15,5));\n",
    "## Use an error bar plot...\n",
    "plt.errorbar(np.array(range(len(means)))+1.0,means,yerr=stderr);\n",
    "## Fix the axis labels\n",
    "plt.xlabel('Number of Clusters (K)');\n",
    "plt.ylabel('Percentage Correct (%) [+- Std. Err.]');"
   ]
  },
  {
   "cell_type": "code",
   "execution_count": null,
   "metadata": {},
   "outputs": [],
   "source": []
  },
  {
   "cell_type": "code",
   "execution_count": null,
   "metadata": {},
   "outputs": [],
   "source": []
  }
 ],
 "metadata": {
  "kernelspec": {
   "display_name": "Python 3",
   "language": "python",
   "name": "python3"
  },
  "language_info": {
   "codemirror_mode": {
    "name": "ipython",
    "version": 3
   },
   "file_extension": ".py",
   "mimetype": "text/x-python",
   "name": "python",
   "nbconvert_exporter": "python",
   "pygments_lexer": "ipython3",
   "version": "3.6.8"
  }
 },
 "nbformat": 4,
 "nbformat_minor": 2
}
